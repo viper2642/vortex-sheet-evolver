{
 "cells": [
  {
   "cell_type": "code",
   "execution_count": 1,
   "id": "foreign-raleigh",
   "metadata": {},
   "outputs": [],
   "source": [
    "%matplotlib inline\n",
    "import numpy as np\n",
    "\n",
    "import matplotlib.animation as anim\n",
    "import matplotlib.pyplot as plt\n",
    "from vortex import *"
   ]
  },
  {
   "cell_type": "markdown",
   "id": "55e96866",
   "metadata": {},
   "source": [
    "# A title\n",
    "Hello this is a piece of text\n",
    "and it is compatible with LaTeX\n",
    "$\\int x^2 dx$"
   ]
  },
  {
   "cell_type": "code",
   "execution_count": null,
   "id": "seventh-barbados",
   "metadata": {},
   "outputs": [],
   "source": [
    "ntimes=300\n",
    "dt=0.04\n",
    "sim=Simulation(npoints=401,init_height=0.2,atwood=0.2,alpha=-0.04,delta_square=0.2)\n",
    "\n",
    "# cosmetics\n",
    "plt.rcParams.update({'font.size': 16})\n",
    "fig,alist = plt.subplots(1,2,figsize=(18,5),gridspec_kw={'width_ratios': [2, 1]})\n",
    "fig.subplots_adjust(left=0.05, bottom=0.08, right=0.99, top=0.99, wspace=None, hspace=None)\n",
    "\n",
    "repetitions=5\n",
    "# interface shape\n",
    "alist[0].set_xlim(0.,repetitions*2*np.pi)\n",
    "alist[0].set_ylim(-5.,5.)\n",
    "alist[0].set_xlabel('x')\n",
    "alist[0].set_ylabel('y')\n",
    "\n",
    "# fields along interface\n",
    "alist[1].set_xlim(0.,1.)\n",
    "alist[1].set_xlabel('s')\n",
    "\n",
    "# definition of plots\n",
    "inter, = alist[0].plot([],[],'.k',label='interface')\n",
    "gamma, = alist[1].plot([],[],'-r',label='$\\gamma$')\n",
    "u, = alist[1].plot([],[],'-g',label='$U_x$')\n",
    "v, = alist[1].plot([],[],'-b',label='$U_y$')\n",
    "\n",
    "plist=(inter,gamma,u,v)\n",
    "\n",
    "for a in alist:\n",
    "    a.grid()\n",
    "    a.set_autoscale_on\n",
    "    a.legend(loc='lower right')\n",
    "\n",
    "def init():\n",
    "    for e in plist:\n",
    "        e.set_data([],[])\n",
    "    return plist\n",
    "\n",
    "def animate(i):\n",
    "    global sim, fig, alist, dt\n",
    "    \n",
    "    gmax=max(int(max(np.floor(np.max(sim.vs.gamma)),1)),10)\n",
    "    for k in range(gmax):\n",
    "        sim.evolve(dt/gmax)\n",
    "        \n",
    "    xint=np.array([sim.vs.x+r*2*np.pi for r in range(repetitions)])\n",
    "    yint=np.array([sim.vs.y for r in range(repetitions)])\n",
    "    inter.set_data(xint,yint)\n",
    "    gamma.set_data(sim.vs.arc/sim.vs.length,sim.vs.gamma)\n",
    "    u.set_data(sim.vs.arc/sim.vs.length,sim.vs.u)\n",
    "    v.set_data(sim.vs.arc/sim.vs.length,sim.vs.v)\n",
    "    \n",
    "    # axis cosmetics\n",
    "    for a in alist:\n",
    "        a.relim()\n",
    "        a.autoscale_view()\n",
    "    \n",
    "    return plist\n",
    "\n",
    "ani = anim.FuncAnimation(fig,animate,frames=ntimes,interval=10,blit=True,init_func=init)\n",
    "\n",
    "ani.save('tayleigh-raylor.mp4',fps=24,extra_args=['-vcodec','libx264'])\n",
    "plt.show()"
   ]
  },
  {
   "cell_type": "code",
   "execution_count": null,
   "id": "southwest-service",
   "metadata": {},
   "outputs": [],
   "source": []
  }
 ],
 "metadata": {
  "kernelspec": {
   "display_name": "Python 3 (ipykernel)",
   "language": "python",
   "name": "python3"
  },
  "language_info": {
   "codemirror_mode": {
    "name": "ipython",
    "version": 3
   },
   "file_extension": ".py",
   "mimetype": "text/x-python",
   "name": "python",
   "nbconvert_exporter": "python",
   "pygments_lexer": "ipython3",
   "version": "3.9.7"
  }
 },
 "nbformat": 4,
 "nbformat_minor": 5
}
